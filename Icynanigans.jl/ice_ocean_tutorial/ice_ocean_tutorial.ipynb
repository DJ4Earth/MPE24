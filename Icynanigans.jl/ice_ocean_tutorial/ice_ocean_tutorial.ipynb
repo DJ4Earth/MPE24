{
 "cells": [
  {
   "cell_type": "code",
   "execution_count": 1,
   "metadata": {},
   "outputs": [],
   "source": [
    "using Oceananigans\n",
    "using Oceananigans.TurbulenceClosures: with_tracers\n",
    "using Oceananigans.BoundaryConditions: fill_halo_regions!\n",
    "using Oceananigans.Fields: ZeroField, ConstantField\n",
    "using Oceananigans.Models.HydrostaticFreeSurfaceModels: tracernames\n",
    "\n",
    "using Enzyme\n",
    "using LinearAlgebra\n",
    "\n",
    "using ClimaSeaIce\n",
    "using ClimaSeaIce: melting_temperature\n",
    "using ClimaSeaIce.HeatBoundaryConditions: RadiativeEmission, IceWaterThermalEquilibrium"
   ]
  },
  {
   "cell_type": "markdown",
   "metadata": {},
   "source": [
    "# Ocean Sea-Ice Inverse Problem"
   ]
  },
  {
   "cell_type": "markdown",
   "metadata": {},
   "source": [
    "As a (very!) simplified model, suppose we have a block of ice floating on top of a body of water. The water is calm, with no current, but it has a temperature gradient which will diffuse over time. This will change the surface temperature of the water, which will in turn affect the growth/melt rate of the ice block.\n",
    "\n",
    "We'll implement this model using two Julia packages: `Oceananigans.jl` for ocean-flavored fluid dynamics, and `ClimaSeaIce.jl` for ice thermodynamics and dynamics with salt. Both of these packages are designed for use with GPUs in mind, but for this tutorial we will only use CPUs since our problem will be fairly small. Both of these packages were written by scientists at the Climate Modeling Alliance (CliMA: https://clima.caltech.edu), and thus use very similar conventions.\n",
    "\n",
    "To differentiate this model, we'll use `Enzyme`, a tool that performs automatic differentiation (AD) of code. `Enzyme` operates at the LLVM level (low-level virtual machine), which makes it usable for several programming languages. Here we'll use its Julia bindings, `Enzyme.jl`."
   ]
  },
  {
   "cell_type": "markdown",
   "metadata": {},
   "source": [
    "### Step 1: Set up ocean and sea ice grid\n",
    "\n",
    "Both Oceananigans and ClimaSeaIce feature a `struct` called `grid`, which discretizes the model domain and stores some important information:\n",
    "- The hardware architecture our model is running on (CPU or GPU).\n",
    "- The coordinate system of our grid (we're using rectilinear coordinates).\n",
    "- The spatial dimensions of our grid.\n",
    "- The resolution in each dimension.\n",
    "- The topology of the domain boundaries, i.e. whether boundaries are bounded or periodic.\n",
    "\n",
    "Our ocean grid will have three dimensions labeled x, y, and z. Our ice grid will only have x and y coordinates, since our ice occupies only a single spatial layer on top of the ocean."
   ]
  },
  {
   "cell_type": "code",
   "execution_count": 3,
   "metadata": {},
   "outputs": [
    {
     "data": {
      "text/plain": [
       "(u = 65×64×1 Field{Face, Center, Center} on RectilinearGrid on CPU\n",
       "├── grid: 64×64×8 RectilinearGrid{Float64, Bounded, Bounded, Bounded} on CPU with 3×3×3 halo\n",
       "├── boundary conditions: FieldBoundaryConditions\n",
       "│   └── west: Nothing, east: Nothing, south: ZeroFlux, north: ZeroFlux, bottom: Nothing, top: Nothing, immersed: ZeroFlux\n",
       "├── indices: (:, :, 8:8)\n",
       "└── data: 71×70×1 OffsetArray(view(::Array{Float64, 3}, :, :, 11:11), -2:68, -2:67, 8:8) with eltype Float64 with indices -2:68×-2:67×8:8\n",
       "    └── max=39.9518, min=-39.9518, mean=-2.44463e-17, v = 64×65×1 Field{Center, Face, Center} on RectilinearGrid on CPU\n",
       "├── grid: 64×64×8 RectilinearGrid{Float64, Bounded, Bounded, Bounded} on CPU with 3×3×3 halo\n",
       "├── boundary conditions: FieldBoundaryConditions\n",
       "│   └── west: ZeroFlux, east: ZeroFlux, south: Nothing, north: Nothing, bottom: Nothing, top: Nothing, immersed: ZeroFlux\n",
       "├── indices: (:, :, 8:8)\n",
       "└── data: 70×71×1 OffsetArray(view(::Array{Float64, 3}, :, :, 11:11), -2:67, -2:68, 8:8) with eltype Float64 with indices -2:67×-2:68×8:8\n",
       "    └── max=20.0, min=20.0, mean=20.0, w = ZeroField{Int64})"
      ]
     },
     "metadata": {},
     "output_type": "display_data"
    }
   ],
   "source": [
    "# Here we will set some important model parameters. First we specify the architecture:\n",
    "arch = CPU()\n",
    "\n",
    "# Next we set the spatial resolution of the problem. We'll keep this low so it can be run locally:\n",
    "Nx = Ny = 64\n",
    "Nz = 8\n",
    "\n",
    "# Here we set the horizontal and vertical distances of the problem:\n",
    "x = y = (-π, π)\n",
    "z = (-0.5, 0.5)\n",
    "topology = (Bounded, Bounded, Bounded)\n",
    "\n",
    "# Here we specify the grid - the spatial discretization of our model:\n",
    "grid = RectilinearGrid(arch, \n",
    "                       size=(Nx, Ny, Nz);\n",
    "                       x, y, z, topology)\n",
    "\n",
    "# And here we set up the ice grid. Note that is is flat in the z-direction since all ice is at the surface:\n",
    "ice_grid = RectilinearGrid(arch,\n",
    "                           size = (Nx, Ny),\n",
    "                           topology = (topology[1], topology[2], Flat),\n",
    "                           x = x,\n",
    "                           y = y)\n"
   ]
  },
  {
   "cell_type": "markdown",
   "metadata": {},
   "source": [
    "### Step 2: Set up ocean and sea ice model\n",
    "\n",
    "With our grids set up, we can now focus on the other aspects of the model. Our ocean model needs a diffusivity to handle tracers like temperature diffusing through the water - we'll use a vertical scalar diffusivity for this. We lable this choice `diffusion`.\n",
    "\n",
    "(*might remove this later*) We also need a velocity field for our water body. Here we'll use a time-invariant function, showing the water flows at a consistent speed and direction over time. We name our x-direction velocity `u` and our y-direction velocity `v`. We also isolate the ocean surface velocities so they can interact with the ice.\n",
    "\n",
    "For the ice, we need variables to represent heat and salt flux, as well as the boundary condition of the bottom with the water.\n",
    "\n",
    "Note that all of these variables use our `grid` or `ice_grid` objects, to determine what resolution and architecture they are represented on."
   ]
  },
  {
   "cell_type": "code",
   "execution_count": 4,
   "metadata": {},
   "outputs": [
    {
     "data": {
      "text/plain": [
       "(u = 65×64×1 Field{Face, Center, Center} on RectilinearGrid on CPU\n",
       "├── grid: 64×64×8 RectilinearGrid{Float64, Bounded, Bounded, Bounded} on CPU with 3×3×3 halo\n",
       "├── boundary conditions: FieldBoundaryConditions\n",
       "│   └── west: Nothing, east: Nothing, south: ZeroFlux, north: ZeroFlux, bottom: Nothing, top: Nothing, immersed: ZeroFlux\n",
       "├── indices: (:, :, 8:8)\n",
       "└── data: 71×70×1 OffsetArray(view(::Array{Float64, 3}, :, :, 11:11), -2:68, -2:67, 8:8) with eltype Float64 with indices -2:68×-2:67×8:8\n",
       "    └── max=39.9518, min=-39.9518, mean=-2.44463e-17, v = 64×65×1 Field{Center, Face, Center} on RectilinearGrid on CPU\n",
       "├── grid: 64×64×8 RectilinearGrid{Float64, Bounded, Bounded, Bounded} on CPU with 3×3×3 halo\n",
       "├── boundary conditions: FieldBoundaryConditions\n",
       "│   └── west: ZeroFlux, east: ZeroFlux, south: Nothing, north: Nothing, bottom: Nothing, top: Nothing, immersed: ZeroFlux\n",
       "├── indices: (:, :, 8:8)\n",
       "└── data: 70×71×1 OffsetArray(view(::Array{Float64, 3}, :, :, 11:11), -2:67, -2:68, 8:8) with eltype Float64 with indices -2:67×-2:68×8:8\n",
       "    └── max=20.0, min=20.0, mean=20.0, w = ZeroField{Int64})"
      ]
     },
     "metadata": {},
     "output_type": "display_data"
    }
   ],
   "source": [
    "# Then we set a maximal diffusivity and diffusion type:\n",
    "const maximum_diffusivity = 100\n",
    "diffusion = VerticalScalarDiffusivity(κ=0.1)\n",
    "\n",
    "# For this problem we'll have a constant-values velocity field - the water will flow at a\n",
    "# constant speed and direction over time. We have to assign the proper velocity values to\n",
    "# every point in our grid:\n",
    "u = XFaceField(grid)\n",
    "v = YFaceField(grid)\n",
    "\n",
    "U = 40\n",
    "u₀(x, y, z) = - U * cos(x + π/4) * sin(y)\n",
    "v₀(x, y, z) = + U * 0.5\n",
    "\n",
    "set!(u, u₀)\n",
    "set!(v, v₀)\n",
    "fill_halo_regions!(u)\n",
    "fill_halo_regions!(v)\n",
    "\n",
    "ice_ocean_heat_flux      = Field{Center, Center, Nothing}(ice_grid)\n",
    "top_ocean_heat_flux = Qᵀ = Field{Center, Center, Nothing}(ice_grid)\n",
    "top_salt_flux       = Qˢ = Field{Center, Center, Nothing}(ice_grid)\n",
    "\n",
    "bottom_bc = IceWaterThermalEquilibrium(ConstantField(30)) #ocean_surface_salinity)\n",
    "\n",
    "ocean_surface_velocities = (u = view(u, :, :, Nz), #interior(u, :, :, Nz),\n",
    "                            v = view(v, :, :, Nz), #interior(v, :, :, Nz),    \n",
    "                            w = ZeroField())"
   ]
  },
  {
   "cell_type": "markdown",
   "metadata": {},
   "source": [
    "#### With our required variables initialized, we can now create our ocean and ice models!\n",
    "\n",
    "Our ocean model uses the hydrostatic approximation - hence we construct a `HydrostaticFreeSurfaceModel`. In addition to supplying the diffusivity and velocity fields above, we also add a tracer `T` to represent our temperature, and the WENO advection scheme for our temperature.\n",
    "\n",
    "Our ice model is a simple slab model with only one layer.In addition to the fluxes above, we also supply a starting salinity, internal heat flux, and top heat flux and boundary condition."
   ]
  },
  {
   "cell_type": "code",
   "execution_count": 10,
   "metadata": {},
   "outputs": [
    {
     "data": {
      "text/plain": [
       "SlabSeaIceModel{CPU, RectilinearGrid}(time = 0 seconds, iteration = 0)\n",
       "├── grid: 64×64×1 RectilinearGrid{Float64, Bounded, Bounded, Flat} on CPU with 3×3×0 halo\n",
       "├── top_surface_temperature: ConstantField(0)\n",
       "├── minimium_ice_thickness: ConstantField(0.05)\n",
       "└── external_heat_fluxes: \n",
       "    ├── top: ConstantField(0)\n",
       "    └── bottom: 64×64×1 Field{Center, Center, Nothing} reduced over dims = (3,) on RectilinearGrid on CPU"
      ]
     },
     "metadata": {},
     "output_type": "display_data"
    }
   ],
   "source": [
    "model = HydrostaticFreeSurfaceModel(; grid,\n",
    "                                    tracer_advection = WENO(),\n",
    "                                    tracers = :T,\n",
    "                                    buoyancy = nothing,\n",
    "                                    velocities = PrescribedVelocityFields(; u, v),\n",
    "                                    closure = diffusion)\n",
    "\n",
    "ice_model = SlabSeaIceModel(ice_grid;\n",
    "                            velocities = ocean_surface_velocities,\n",
    "                            advection = nothing, #WENO(),\n",
    "                            ice_consolidation_thickness = 0.05,\n",
    "                            ice_salinity = 4,\n",
    "                            internal_heat_flux = ConductiveFlux(conductivity=2),\n",
    "                            #top_heat_flux = ConstantField(-100), # W m⁻²\n",
    "                            top_heat_flux = ConstantField(0), # W m⁻²\n",
    "                            top_heat_boundary_condition = PrescribedTemperature(0),\n",
    "                            bottom_heat_boundary_condition = bottom_bc,\n",
    "                            bottom_heat_flux = ice_ocean_heat_flux)"
   ]
  },
  {
   "cell_type": "markdown",
   "metadata": {},
   "source": [
    "### Step 3: Obtain the \"real\" data values\n",
    "\n",
    "Now we have a functioning ocean and sea ice model. Suppose we have the final temperature distribution and ice thickness, and wish to use these to reconstruct the initial ocean temperature and ice thickness (*this may change later*). In a real project, we might have measured temperature and thickness data to use for our inverse problem. For this tutorial, we'll instead generate \"real\" data values using a function called `ice_ocean_data`. For this function we'll run our ocean and ice models forward a number of time steps to produce our data values. The function `ice_ocean_data` produces both the initial temperature distribution of the water (what we aim to invert for) as well as the final temperature distribution (what we are given for the inverse problem)."
   ]
  },
  {
   "cell_type": "code",
   "execution_count": 23,
   "metadata": {},
   "outputs": [
    {
     "data": {
      "text/plain": [
       "stable_diffusion_data (generic function with 1 method)"
      ]
     },
     "metadata": {},
     "output_type": "display_data"
    }
   ],
   "source": [
    "# TODO: add sea ice component\n",
    "\n",
    "# Sets the initial diffusivity:\n",
    "function set_diffusivity!(model, diffusivity)\n",
    "    closure = VerticalScalarDiffusivity(; κ=diffusivity)\n",
    "    names = tuple(:T) # tracernames(model.tracers)\n",
    "    closure = with_tracers(names, closure)\n",
    "    model.closure = closure\n",
    "    return nothing\n",
    "end\n",
    "\n",
    "# This produces an initial data distribution:\n",
    "function set_initial_data!(model)\n",
    "    amplitude   = Ref(1)\n",
    "    width       = 0.1\n",
    "    Tᵢ(x, y, z) = amplitude[] * exp(-z^2 / (2width^2))\n",
    "\n",
    "    set!(model, T=Tᵢ)\n",
    "\n",
    "    return nothing\n",
    "end\n",
    "\n",
    "# Generates the \"real\" data from a stable diffusion run:\n",
    "function ice_ocean_data(model, ice_model, diffusivity, n_max)\n",
    "    \n",
    "    set_diffusivity!(model, diffusivity)\n",
    "    set_initial_data!(model)\n",
    "    \n",
    "    # Do time-stepping\n",
    "    Nx, Ny, Nz = size(model.grid)\n",
    "    κ_max = maximum_diffusivity\n",
    "    Δz = 2π / Nz\n",
    "    Δt = 1e-1 * Δz^2 / κ_max\n",
    "\n",
    "    model.clock.time = 0\n",
    "    model.clock.iteration = 0\n",
    "\n",
    "    T₀ = deepcopy(model.tracers.T)\n",
    "\n",
    "    for n = 1:n_max\n",
    "        time_step!(model, Δt; euler=true)\n",
    "        # TODO: supply ocean surface temperature to sea ice model\n",
    "        time_step!(ice_model, Δt)\n",
    "    end\n",
    "\n",
    "    # Compute scalar metric\n",
    "    Tₙ = deepcopy(model.tracers.T)\n",
    "\n",
    "    return T₀, Tₙ\n",
    "end"
   ]
  },
  {
   "cell_type": "markdown",
   "metadata": {},
   "source": [
    "### Step 4: Run the forward model\n",
    "\n",
    "With our model structs and intial data, we can now run the actual ice-ocean model for an inverse problem. Given some initial guess for our temperature distribution, we will run the model forward the set number of time steps and compare our computed final temperature with the \"true\" temperature from `ice_ocean_data`."
   ]
  },
  {
   "cell_type": "code",
   "execution_count": 24,
   "metadata": {},
   "outputs": [
    {
     "data": {
      "text/plain": [
       "advection_diffusion_model! (generic function with 1 method)"
      ]
     },
     "metadata": {},
     "output_type": "display_data"
    }
   ],
   "source": [
    "function set_initial_condition!(model, Tᵢ)\n",
    "\n",
    "    # This has a \"width\" of 0.1\n",
    "    #Tᵢ(x, y, z) = amplitude[] * exp(-z^2 / 0.02 - (x^2 + y^2) / 0.05)\n",
    "    set!(model, T=Tᵢ)\n",
    "\n",
    "    return nothing\n",
    "end\n",
    "\n",
    "# cᵢ is the proposed initial condition, cₙ is the actual data collected\n",
    "# at the final time step:\n",
    "function ice_ocean_model(model, ice_model, diffusivity, n_max, Tᵢ, Tₙ)\n",
    "    set_diffusivity!(model, diffusivity)\n",
    "    set_initial_condition!(model, Tᵢ)\n",
    "    \n",
    "    # Run the forward model:\n",
    "    Nx, Ny, Nz = size(model.grid)\n",
    "    κ_max = maximum_diffusivity\n",
    "    Δz = 2π / Nz\n",
    "    Δt = 1e-1 * Δz^2 / κ_max\n",
    "\n",
    "    model.clock.time = 0\n",
    "    model.clock.iteration = 0\n",
    "\n",
    "    for n = 1:n_max\n",
    "        time_step!(model, Δt; euler=true)\n",
    "        time_step!(ice_model, Δt)\n",
    "    end\n",
    "\n",
    "    T = model.tracers.T\n",
    "    # Compute the misfit of our forward model run with the true data cₙ:\n",
    "    J = 0.0\n",
    "    for i = 1:Nx, j = 1:Ny, k = 1:Nz\n",
    "        J += (T[i, j, k] - Tₙ[i, j, k])^2\n",
    "    end\n",
    "\n",
    "    return J::Float64\n",
    "end"
   ]
  },
  {
   "cell_type": "markdown",
   "metadata": {},
   "source": [
    "### Step 5: Set up the inverse problem parameters"
   ]
  },
  {
   "cell_type": "code",
   "execution_count": 25,
   "metadata": {},
   "outputs": [
    {
     "name": "stdout",
     "output_type": "stream",
     "text": [
      "T₀ = 64×64×8 Field{Center, Center, Center} on RectilinearGrid on CPU\n",
      "├── grid: 64×64×8 RectilinearGrid{Float64, Bounded, Bounded, Bounded} on CPU with 3×3×3 halo\n",
      "├── boundary conditions: FieldBoundaryConditions\n",
      "│   └── west: ZeroFlux, east: ZeroFlux, south: ZeroFlux, north: ZeroFlux, bottom: ZeroFlux, top: ZeroFlux, immersed: ZeroFlux\n",
      "└── data: 70×70×14 OffsetArray(::Array{Float64, 3}, -2:67, -2:67, -2:11) with eltype Float64 with indices -2:67×-2:67×-2:11\n",
      "    └── max=0.822578, min=6.97696e-5, mean=0.250661\n",
      "Tₙ = 64×64×8 Field{Center, Center, Center} on RectilinearGrid on CPU\n",
      "├── grid: 64×64×8 RectilinearGrid{Float64, Bounded, Bounded, Bounded} on CPU with 3×3×3 halo\n",
      "├── boundary conditions: FieldBoundaryConditions\n",
      "│   └── west: ZeroFlux, east: ZeroFlux, south: ZeroFlux, north: ZeroFlux, bottom: ZeroFlux, top: ZeroFlux, immersed: ZeroFlux\n",
      "└── data: 70×70×14 OffsetArray(::Array{Float64, 3}, -2:67, -2:67, -2:11) with eltype Float64 with indices -2:67×-2:67×-2:11\n",
      "    └── max=1.98294, min=0.0286312, mean=0.261636\n"
     ]
    },
    {
     "data": {
      "text/plain": [
       "0.01"
      ]
     },
     "metadata": {},
     "output_type": "display_data"
    }
   ],
   "source": [
    "κ = 1\n",
    "n_max  = 80\n",
    "T₀, Tₙ = stable_diffusion_data(model, ice_model, κ, n_max)\n",
    "\n",
    "@show T₀\n",
    "@show Tₙ\n",
    "\n",
    "Tᵢ = zeros(size(model.tracers.T))\n",
    "\n",
    "learning_rate = 0.01\n",
    "max_steps = 10\n",
    "δ = 0.01"
   ]
  },
  {
   "cell_type": "markdown",
   "metadata": {},
   "source": [
    "### Step 6: Run the inverse problem"
   ]
  },
  {
   "cell_type": "code",
   "execution_count": 35,
   "metadata": {},
   "outputs": [],
   "source": [
    "# Update our guess of the initial tracer distribution, cᵢ:\n",
    "for i = 1:max_steps\n",
    "    dmodel = Enzyme.make_zero(model)\n",
    "    dTᵢ = Enzyme.make_zero(Tᵢ)\n",
    "    dTₙ = Enzyme.make_zero(Tₙ)\n",
    "    set_diffusivity!(dmodel, 0)\n",
    "\n",
    "    # Temporarily withheld until Oceananigans + enzyme bugs are fixed\n",
    "    \n",
    "    # Since we are only interested in duplicated variable cᵢ for this run,\n",
    "    # we do not use dJ here:\n",
    "    #=\n",
    "    dJ = autodiff(Enzyme.Reverse,\n",
    "                    advection_diffusion_model!,\n",
    "                    Duplicated(model, dmodel),\n",
    "                    Const(κ),\n",
    "                    Const(n_max),\n",
    "                    Duplicated(cᵢ, dcᵢ),\n",
    "                    Duplicated(cₙ, dcₙ))\n",
    "    \n",
    "    @show i\n",
    "    @show norm(dcᵢ)\n",
    "    global cᵢ .= cᵢ .- (dcᵢ .* learning_rate)\n",
    "    @show (norm(cᵢ - c₀) / norm(c₀))\n",
    "\n",
    "    # Stop gradient descent if dcᵢ is sufficiently small:\n",
    "    if norm(dcᵢ) < δ\n",
    "        break\n",
    "    end\n",
    "    =#\n",
    "end"
   ]
  },
  {
   "cell_type": "code",
   "execution_count": null,
   "metadata": {},
   "outputs": [],
   "source": []
  }
 ],
 "metadata": {
  "kernelspec": {
   "display_name": "Julia 1.10.0-rc3",
   "language": "julia",
   "name": "julia-1.10"
  },
  "language_info": {
   "file_extension": ".jl",
   "mimetype": "application/julia",
   "name": "julia",
   "version": "1.10.0-rc3"
  },
  "orig_nbformat": 4
 },
 "nbformat": 4,
 "nbformat_minor": 2
}
