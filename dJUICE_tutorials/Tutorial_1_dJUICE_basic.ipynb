{
 "cells": [
  {
   "cell_type": "markdown",
   "id": "a9bf1001",
   "metadata": {},
   "source": [
    "# Square ice shelf tutorial\n",
    "\n",
    "This is an example of velocity computation in steady state for a square ice shelf. We follow the tutorial as in the ice-sheet and Sea-level System Model (ISSM): [https://issm.jpl.nasa.gov/documentation/tutorials/squareiceshelf/](https://issm.jpl.nasa.gov/documentation/tutorials/squareiceshelf/), which is the C++ version of ice sheet model.\n"
   ]
  },
  {
   "cell_type": "markdown",
   "id": "8edb348e",
   "metadata": {},
   "source": [
    "## Install the package\n",
    "\n",
    "To use this tutorial one need to install `dJUICE` using the following commands:\n",
    "\n",
    "```julia\n",
    "]add https://github.com/DJ4Earth/dJUICE.jl\n",
    "```\n",
    "\n",
    "After installing, import the package:"
   ]
  },
  {
   "cell_type": "code",
   "execution_count": null,
   "id": "712476bc",
   "metadata": {},
   "outputs": [],
   "source": [
    "using dJUICE"
   ]
  },
  {
   "cell_type": "markdown",
   "id": "9943fe5d",
   "metadata": {},
   "source": [
    "## Initialize the model\n",
    "\n",
    "\n",
    "All the data belonging to a model (geometry, node coordinates, results, etc.) is held in the same object `Model`. To create a new model, one can use the following command:"
   ]
  },
  {
   "cell_type": "code",
   "execution_count": null,
   "id": "d10ed787",
   "metadata": {
    "scrolled": false
   },
   "outputs": [],
   "source": [
    "md = model();"
   ]
  },
  {
   "cell_type": "markdown",
   "id": "aac3dfec",
   "metadata": {},
   "source": [
    "This will create a new model named `md` whose `struct` is `Model`. The information contained in the model `md` are grouped by `struct`, that contain fields related to a particular aspect of the model (e.g. mesh, ice geometry, material properties, friction, stressbalance solution, results of the runs, etc.). When one creates a new model, all these fields are empty, but `md` is ready to be used as a model. The list of these classes is displayed by running:"
   ]
  },
  {
   "cell_type": "code",
   "execution_count": null,
   "id": "407ffbf5",
   "metadata": {},
   "outputs": [],
   "source": [
    "md"
   ]
  },
  {
   "cell_type": "markdown",
   "id": "f630286d",
   "metadata": {},
   "source": [
    "## Generate Mesh\n",
    "\n",
    "Use `md=triangle(md,domainname,resolution)` to generate an unstructured triangular mesh based on the domain outline defined in the file `domainname`, with a characteristic length `resolution` for the mesh.\n",
    "\n",
    "We start with a square domain of $[0, 10^6]\\times[0,10^6]$ with $5\\times10^3~$ mesh resolution, all the units are in meters. Indeed, in `dJUICE` we use [SI](https://en.wikipedia.org/wiki/International_System_of_Units) unit system."
   ]
  },
  {
   "cell_type": "code",
   "execution_count": null,
   "id": "ce84abf9",
   "metadata": {},
   "outputs": [],
   "source": [
    "md = triangle(md,issmdir()*\"/test/Exp/Square.exp\",50000.) \n",
    "\n",
    "# may need to install GLMakie\n",
    "plotmodel(md, \"mesh\")"
   ]
  },
  {
   "cell_type": "markdown",
   "id": "0fa70000",
   "metadata": {},
   "source": [
    "Now, let's use `IJulia.load(issmdir()*\"/test/Exp/Square.exp\")` or `readlines(issmdir()*\"/test/Exp/Square.exp\")` to see the `Square.exp` file:"
   ]
  },
  {
   "cell_type": "code",
   "execution_count": null,
   "id": "8cfe30df",
   "metadata": {},
   "outputs": [],
   "source": [
    "readlines(issmdir()*\"/test/Exp/Square.exp\")"
   ]
  },
  {
   "cell_type": "markdown",
   "id": "d98e6177",
   "metadata": {},
   "source": [
    "## Set the geometry\n",
    "\n",
    "We define the ice geometry on the given domain. \n",
    "### Ice thickness\n",
    "Let's set the `thickness` of the ice shelf to be \n",
    "$$H(x,y)=h_{\\max} + \\frac{h_{\\min}-h_{\\max}}{L_y}y+0.1\\frac{h_{\\min}-h_{\\max}}{L_x}x$$\n",
    "where $h_\\min=300$ and $h_\\max=1000$"
   ]
  },
  {
   "cell_type": "code",
   "execution_count": null,
   "id": "d286e4cf",
   "metadata": {},
   "outputs": [],
   "source": [
    "hmin=300.\n",
    "hmax=1000.\n",
    "ymin=minimum(md.mesh.y)\n",
    "ymax=maximum(md.mesh.y)\n",
    "xmin=minimum(md.mesh.x)\n",
    "xmax=maximum(md.mesh.x)\n",
    "\n",
    "md.geometry.thickness = hmax .+ (hmin-hmax)*(md.mesh.y .- ymin)./(ymax-ymin) .+ \n",
    "                            0.1*(hmin-hmax)*(md.mesh.x .- xmin)./(xmax-xmin)\n",
    "# plot the ice thickness\n",
    "plotmodel(md, md.geometry.thickness)"
   ]
  },
  {
   "cell_type": "markdown",
   "id": "f579c406",
   "metadata": {},
   "source": [
    "### Ice base\n",
    "Because the ice shelf is floating, we can determine the `base` of the ice by the flotation criteria\n",
    "$$b=-\\frac{\\rho_i}{\\rho_w}*H,$$ where $\\rho_i$ and $\\rho_w$ are the density of ice and water. The physical constants are given by default in `md.materials` when initialize the model. "
   ]
  },
  {
   "cell_type": "code",
   "execution_count": null,
   "id": "7b166a25",
   "metadata": {},
   "outputs": [],
   "source": [
    "md.geometry.base = -md.materials.rho_ice/md.materials.rho_water*md.geometry.thickness\n",
    "plotmodel(md, md.geometry.base)"
   ]
  },
  {
   "cell_type": "markdown",
   "id": "9982af00",
   "metadata": {},
   "source": [
    "### Ice surface\n",
    "\n",
    "The `surface` of the ice is then calculated as $s=b+H$. "
   ]
  },
  {
   "cell_type": "code",
   "execution_count": null,
   "id": "022750f7",
   "metadata": {},
   "outputs": [],
   "source": [
    "md.geometry.surface   = md.geometry.base+md.geometry.thickness\n",
    "plotmodel(md, md.geometry.surface)"
   ]
  },
  {
   "cell_type": "markdown",
   "id": "6e6927c1",
   "metadata": {},
   "source": [
    "### Bedrock\n",
    "In this tutorial, we are going to work on an ice shelf. To gurantee the ice is completely floating, we set the sea `bed` (bedrock) elevation to be 10 meters deeper than the `base` of the ice:"
   ]
  },
  {
   "cell_type": "code",
   "execution_count": null,
   "id": "10ac97e9",
   "metadata": {},
   "outputs": [],
   "source": [
    "md.geometry.bed       = md.geometry.base .-10\n",
    "plotmodel(md, md.geometry.bed)"
   ]
  },
  {
   "cell_type": "markdown",
   "id": "e54eb806",
   "metadata": {},
   "source": [
    "## Set intitial conditions\n",
    "\n",
    "We set the whole domain to be ice covered, as an ice shelf.\n",
    "The initial velocity is set to zeros. "
   ]
  },
  {
   "cell_type": "code",
   "execution_count": null,
   "id": "cc463d4b",
   "metadata": {},
   "outputs": [],
   "source": [
    "# set ice mask \n",
    "md = setmask(md,\"all\",\"\")\n",
    "md.initialization.vx = zeros(md.mesh.numberofvertices)\n",
    "md.initialization.vy = zeros(md.mesh.numberofvertices);"
   ]
  },
  {
   "cell_type": "markdown",
   "id": "7a09c502",
   "metadata": {},
   "source": [
    "## Set physical parameters\n",
    "\n",
    "Ice in large scale is a non-Neutownian, viscos fluid. Its governing dynamics are described by the Shelfy Stream Approximation (SSA), expressed as a system of PDEs: \n",
    "\\begin{equation}\\label{eq:PDEs}\n",
    "    \\nabla\\cdot\\boldsymbol{\\sigma}+{\\boldsymbol{\\tau}}_b=\\rho_i g H \\nabla s\n",
    "\\end{equation}\n",
    "where $\\boldsymbol{\\tau}_b=(\\tau_{bx}, \\tau_{by})^T$ represents the basal shear stress, $\\rho_i$ is the ice density, $g$ is the gravitational acceleration. $\\boldsymbol{\\sigma}$ is the stress tensor of the SSA model defined as\n",
    "\\begin{equation}\\label{eq:stresstensor}\n",
    "    \\boldsymbol{\\sigma} = \\mu H\n",
    "    \\begin{bmatrix}\n",
    "         \\displaystyle 4\\frac{\\partial u}{\\partial x}+2\\frac{\\partial v}{\\partial y} \n",
    "         & \n",
    "         \\displaystyle \\frac{\\partial u}{\\partial y}+\\frac{\\partial v}{\\partial x}  \\\\\n",
    "         \\\\\n",
    "         \\displaystyle \\frac{\\partial u}{\\partial y}+\\frac{\\partial v}{\\partial x} \n",
    "         &\n",
    "         \\displaystyle 2\\frac{\\partial u}{\\partial x}+4\\frac{\\partial v}{\\partial y}\n",
    "    \\end{bmatrix}.\n",
    "\\end{equation}\n",
    "The ice viscosity, $\\mu$, is determined by Glen's flow-law, which in two dimensions reads: \n",
    "\\begin{equation}\n",
    "    \\mu =\\frac{B}{2}\\left( \\left(\\frac{\\partial u}{\\partial x}\\right)^2 + \\left(\\frac{\\partial v}{\\partial y}\\right)^2 + \\frac{1}{4}\\left(\\frac{\\partial u}{\\partial y} +\\frac{\\partial v}{\\partial x}\\right)^2 + \\frac{\\partial u}{\\partial x}\\frac{\\partial v}{\\partial y}\\right)^{\\frac{1-n}{2n}},\n",
    "\\end{equation}\n",
    "where $n = 3$ is the flow-law exponent, and $B$ is the pre-factor dependent on ice temperature, among other factors. \n",
    "\n",
    "\n",
    "The above PDEs is what `dJUICE` is going to solve. We will only need to set the pre-factor $B$ and exponent $n$ in this tutorial."
   ]
  },
  {
   "cell_type": "code",
   "execution_count": null,
   "id": "e3322688",
   "metadata": {},
   "outputs": [],
   "source": [
    "md.materials.rheology_B=1.815730284801701e+08*ones(md.mesh.numberofvertices)\n",
    "md.materials.rheology_n=3*ones(md.mesh.numberofelements);"
   ]
  },
  {
   "cell_type": "markdown",
   "id": "c8d206b8",
   "metadata": {},
   "source": [
    "The basal shear stress is related to the ice velocity by a friciton law, here we use the Budd friction law\n",
    "$$\\tau_b=C^2N^\\frac{q}{p}|u_b|^{\\frac{1}{q}-1}u_b$$\n",
    "where the effective pressure $N$ is calculated by `dJUICE` at the base of the ice.\n",
    "\n",
    "To start, we set the basal friction coefficient $C=20~\\text{m}^{-1/2} \\text{s}^{1/2}$, and the exponents $p=1$ and $q=1$.\n"
   ]
  },
  {
   "cell_type": "code",
   "execution_count": null,
   "id": "77ccfb25",
   "metadata": {},
   "outputs": [],
   "source": [
    "md.friction.coefficient=20*ones(md.mesh.numberofvertices)\n",
    "md.friction.p=ones(md.mesh.numberofvertices)\n",
    "md.friction.q=ones(md.mesh.numberofvertices);"
   ]
  },
  {
   "cell_type": "markdown",
   "id": "f906d58c",
   "metadata": {},
   "source": [
    "## Boundary conditions\n",
    "\n",
    "Let's set the left, bottom, right boundaries to be Dirichlet boundary, and the top bondary to be a calving front boundary. In `dJUICE`, the calving front boundary is automatically determined by the 0-levelset contour of `md.mask.ice_levelset`, which are the nodes inside the polygon defined in `./test/Exp/SquareFront.exp`.\n",
    "\n",
    "The Dirichelt boundaries are the rest boundaries of the domain, by setting the values in `md.stressbalance.spcvx` and `md.stressbalance.spcvy`."
   ]
  },
  {
   "cell_type": "code",
   "execution_count": null,
   "id": "e3ff6534",
   "metadata": {},
   "outputs": [],
   "source": [
    "#Boundary conditions\n",
    "nodefront=ContourToNodes(md.mesh.x,md.mesh.y,issmdir()*\"/test/Exp/SquareFront.exp\",2.0) .& md.mesh.vertexonboundary\n",
    "md.stressbalance.spcvx = NaN*ones(md.mesh.numberofvertices)\n",
    "md.stressbalance.spcvy = NaN*ones(md.mesh.numberofvertices)\n",
    "pos = findall(md.mesh.vertexonboundary .& .~nodefront)\n",
    "md.mask.ice_levelset[findall(nodefront)] .= 0\n",
    "\n",
    "segmentsfront=md.mask.ice_levelset[md.mesh.segments[:,1:2]]==0\n",
    "segments = findall(vec(sum(Int64.(md.mask.ice_levelset[md.mesh.segments[:,1:2]].==0), dims=2)) .!=2)\n",
    "pos=md.mesh.segments[segments,1:2]\n",
    "md.stressbalance.spcvx[pos] .= 0.0\n",
    "md.stressbalance.spcvy[pos] .= 0.0;"
   ]
  },
  {
   "cell_type": "markdown",
   "id": "1869cd26",
   "metadata": {},
   "source": [
    "## Numerical tolerance\n",
    "\n",
    "- `restol` is the mechanical equilibrium residual convergence criterion\n",
    "- `reltol` is the velocity relative convergence criterion\n",
    "- `abstol` is the velocity absolute convergence criterion\n",
    "\n",
    "If the tolerance is set to `NaN`, that means it is not applied."
   ]
  },
  {
   "cell_type": "code",
   "execution_count": null,
   "id": "ee2ab36f",
   "metadata": {},
   "outputs": [],
   "source": [
    "md.stressbalance.restol=0.05\n",
    "md.stressbalance.reltol=0.05\n",
    "md.stressbalance.abstol=NaN;"
   ]
  },
  {
   "cell_type": "markdown",
   "id": "a776ab3f",
   "metadata": {},
   "source": [
    "## Solve\n",
    "\n",
    "Now let's solve the nonlinar PDEs"
   ]
  },
  {
   "cell_type": "code",
   "execution_count": null,
   "id": "1c2e9524",
   "metadata": {},
   "outputs": [],
   "source": [
    "md=solve(md,:Stressbalance)"
   ]
  },
  {
   "cell_type": "markdown",
   "id": "91302c08",
   "metadata": {},
   "source": [
    "## plot solutions\n",
    "\n",
    "The solutions are in `md.results[\"StressbalanceSolution\"]`. We can plot the velocity magnitude by the following command."
   ]
  },
  {
   "cell_type": "code",
   "execution_count": null,
   "id": "5148706c",
   "metadata": {},
   "outputs": [],
   "source": [
    "plotmodel(md, md.results[\"StressbalanceSolution\"][\"Vel\"]*md.constants.yts)"
   ]
  }
 ],
 "metadata": {
  "kernelspec": {
   "display_name": "Julia 1.10.0",
   "language": "julia",
   "name": "julia-1.10"
  },
  "language_info": {
   "file_extension": ".jl",
   "mimetype": "application/julia",
   "name": "julia",
   "version": "1.10.0"
  }
 },
 "nbformat": 4,
 "nbformat_minor": 5
}
